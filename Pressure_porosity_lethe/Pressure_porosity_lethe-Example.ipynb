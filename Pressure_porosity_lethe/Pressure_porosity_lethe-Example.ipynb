{
 "cells": [
  {
   "cell_type": "code",
   "execution_count": 1,
   "metadata": {},
   "outputs": [],
   "source": [
    "#############################################################################\n",
    "'''Importing Libraries'''\n",
    "from Lethe_pyvista_tools import *\n",
    "from math import pi\n",
    "import numpy as np\n",
    "import pandas as pd\n",
    "import matplotlib.pyplot as plt\n",
    "import pyvista as pv\n",
    "#############################################################################"
   ]
  },
  {
   "cell_type": "code",
   "execution_count": 2,
   "metadata": {},
   "outputs": [],
   "source": [
    "#Ergun equation to predict pressure drop at fixed beds\n",
    "def Ergun(inlet_velocity, mu, rhol, dp):\n",
    "    eps_mf = 0.415\n",
    "    delta_p = 0.23875*(150*inlet_velocity*mu*(1 - eps_mf)**2/(dp**2*eps_mf**3) + 1.75*inlet_velocity**2*rhol*(1 - eps_mf)/(dp*eps_mf**3))\n",
    "    return delta_p\n",
    "\n",
    "deltap_Ergun = Ergun(0.02, 0.0000008379*996.7775, 996.7775, 0.00308724)"
   ]
  },
  {
   "cell_type": "code",
   "execution_count": 3,
   "metadata": {},
   "outputs": [
    {
     "name": "stderr",
     "output_type": "stream",
     "text": [
      "Reading VTU files: 0it [00:00, ?it/s]"
     ]
    },
    {
     "name": "stdout",
     "output_type": "stream",
     "text": [
      "Successfully constructed. To see the .prm dictionary, print($NAME.prm_dict)\n"
     ]
    },
    {
     "name": "stderr",
     "output_type": "stream",
     "text": [
      "Reading VTU files: 22it [00:02, 10.13it/s]"
     ]
    },
    {
     "name": "stdout",
     "output_type": "stream",
     "text": [
      "Written .df_timestep from timestep = 0 to timestep = 22\n"
     ]
    }
   ],
   "source": [
    "#Read fluid files\n",
    "fluid = Lethe_pyvista_tools('D:/results/lethe/alumina/q1-q1', 'first_case.prm')\n",
    "fluid.read_lethe_to_pyvista('result_.pvd')\n"
   ]
  },
  {
   "cell_type": "code",
   "execution_count": 4,
   "metadata": {},
   "outputs": [
    {
     "name": "stderr",
     "output_type": "stream",
     "text": []
    },
    {
     "name": "stdout",
     "output_type": "stream",
     "text": [
      "Successfully constructed. To see the .prm dictionary, print($NAME.prm_dict)\n"
     ]
    },
    {
     "name": "stderr",
     "output_type": "stream",
     "text": []
    },
    {
     "name": "stdout",
     "output_type": "stream",
     "text": [
      "Written .df_timestep from timestep = 0 to timestep = 23\n"
     ]
    }
   ],
   "source": [
    "#Read particles files\n",
    "particle = Lethe_pyvista_tools('D:/results/lethe/alumina/q1-q1', 'first_case.prm')\n",
    "particle.read_lethe_to_pyvista('result_particles.pvd')"
   ]
  },
  {
   "cell_type": "code",
   "execution_count": 5,
   "metadata": {},
   "outputs": [
    {
     "name": "stdout",
     "output_type": "stream",
     "text": [
      "UnstructuredGrid (0x210fd467580)\n",
      "  N Cells:\t10560\n",
      "  N Points:\t84480\n",
      "  X Bounds:\t-5.500e-01, 5.500e-01\n",
      "  Y Bounds:\t-5.000e-02, 5.000e-02\n",
      "  Z Bounds:\t-5.000e-02, 5.000e-02\n",
      "  N Arrays:\t6\n",
      "\n"
     ]
    }
   ],
   "source": [
    "#Pyvista object\n",
    "print(fluid.df_0)"
   ]
  },
  {
   "cell_type": "code",
   "execution_count": 6,
   "metadata": {},
   "outputs": [
    {
     "name": "stdout",
     "output_type": "stream",
     "text": [
      "Fluid arrays: ['velocity', 'vorticity', 'pressure', 'q_criterion', 'void_fraction', 'subdomain']\n",
      "Particles arrays: ['Velocity', 'Omega', 'FemForce', 'ID', 'Type', 'Diameter']\n"
     ]
    }
   ],
   "source": [
    "#print the name of the arrays in pyvista object\n",
    "print(f'Fluid arrays: {fluid.df_0.array_names}')\n",
    "print(f'Particles arrays: {particle.df_0.array_names}')"
   ]
  },
  {
   "cell_type": "code",
   "execution_count": 7,
   "metadata": {},
   "outputs": [
    {
     "name": "stderr",
     "output_type": "stream",
     "text": [
      "Reading VTU files: 23it [00:03,  6.48it/s]"
     ]
    },
    {
     "name": "stdout",
     "output_type": "stream",
     "text": [
      "[[-0.55        0.03535534 -0.03535534]\n",
      " [-0.55        0.01913417 -0.04619398]\n",
      " [-0.5416667   0.03535534 -0.03535534]\n",
      " ...\n",
      " [ 0.5416667  -0.01464466  0.01464466]\n",
      " [ 0.55       -0.01982233  0.01982233]\n",
      " [ 0.55       -0.01464466  0.01464466]]\n"
     ]
    },
    {
     "name": "stderr",
     "output_type": "stream",
     "text": [
      "\n"
     ]
    }
   ],
   "source": [
    "#print coordinates to mesh points\n",
    "print(fluid.df_0.points)"
   ]
  },
  {
   "cell_type": "code",
   "execution_count": 8,
   "metadata": {},
   "outputs": [
    {
     "name": "stdout",
     "output_type": "stream",
     "text": [
      "<class 'numpy.ndarray'>\n"
     ]
    }
   ],
   "source": [
    "#print the type of the fluid.df_\n",
    "print(type(fluid.df_0['pressure']))"
   ]
  },
  {
   "cell_type": "code",
   "execution_count": 9,
   "metadata": {},
   "outputs": [
    {
     "name": "stdout",
     "output_type": "stream",
     "text": [
      "The fluid density is 996.7775 kg/m³\n",
      "The diameter of the particles is 3.0872400000000004 mm\n"
     ]
    }
   ],
   "source": [
    "#using prm_dict to show the attributes\n",
    "\n",
    "fluid.density = fluid.prm_dict['density']\n",
    "print(f'The fluid density is {fluid.density} kg/m³')\n",
    "\n",
    "particle.diameter = particle.prm_dict['diameter']\n",
    "print(f'The diameter of the particles is {particle.diameter*1000} mm')"
   ]
  },
  {
   "cell_type": "code",
   "execution_count": 10,
   "metadata": {},
   "outputs": [
    {
     "name": "stderr",
     "output_type": "stream",
     "text": [
      "Reading VTU files: 22it [00:07,  3.11it/s]\n"
     ]
    },
    {
     "data": {
      "image/png": "[encoded data removed]",
      "text/plain": [
       "<Figure size 432x288 with 1 Axes>"
      ]
     },
     "metadata": {
      "needs_background": "light"
     },
     "output_type": "display_data"
    }
   ],
   "source": [
    "#Example of plot data\n",
    "plt.plot(fluid.df_1.points[:, 0], fluid.df_1['pressure']*fluid.density, '.k')\n",
    "plt.title(f'Time = {fluid.time_list[1]}')\n",
    "plt.ylabel('Pressure [Pa]')\n",
    "plt.xlabel('Height [m]')\n",
    "plt.grid()\n",
    "plt.show()"
   ]
  },
  {
   "cell_type": "code",
   "execution_count": 11,
   "metadata": {},
   "outputs": [
    {
     "data": {
      "image/png": "[encoded data removed]",
      "text/plain": [
       "<Figure size 432x288 with 1 Axes>"
      ]
     },
     "metadata": {
      "needs_background": "light"
     },
     "output_type": "display_data"
    }
   ],
   "source": [
    "#Use exec to make changes easier:\n",
    "timestep = 19\n",
    "exec(f'plt.plot(fluid.df_{timestep}.points[:, 0], fluid.df_{timestep}[\\'pressure\\']*fluid.density, \\'.k\\')') #make sure to put the \\ before any '\n",
    "plt.title(f'Time = {fluid.time_list[timestep]}')\n",
    "plt.ylabel('Pressure [Pa]')\n",
    "plt.xlabel('Height [m]')\n",
    "plt.grid()\n",
    "plt.show()"
   ]
  },
  {
   "cell_type": "code",
   "execution_count": 12,
   "metadata": {},
   "outputs": [
    {
     "name": "stdout",
     "output_type": "stream",
     "text": [
      "UnstructuredGrid (0x171fc8785e0)\n",
      "  N Cells:\t10560\n",
      "  N Points:\t84480\n",
      "  X Bounds:\t-5.500e-01, 5.500e-01\n",
      "  Y Bounds:\t-5.000e-02, 5.000e-02\n",
      "  Z Bounds:\t-5.000e-02, 5.000e-02\n",
      "  N Arrays:\t6\n",
      "\n",
      "[ True  True  True ...  True  True  True]\n",
      "[0.0951 0.0951 0.     ... 0.     0.     0.    ]\n"
     ]
    }
   ],
   "source": [
    "#Dealing with verctorial variables:\n",
    "print(fluid.df_0)\n",
    "fluid.df_0['velocity_x'] = fluid.df_0['velocity'][:, 0]\n",
    "\n",
    "print(fluid.df_0['velocity'][:, 0] == fluid.df_0['velocity_x'])\n",
    "print(fluid.df_0['velocity_x'])"
   ]
  },
  {
   "cell_type": "code",
   "execution_count": 13,
   "metadata": {},
   "outputs": [],
   "source": [
    "#Doing the same for all dfs\n",
    "for i in range(len(fluid.list_vtu)):\n",
    "    exec(f'fluid.df_{i}[\\'velocity_x\\'] = fluid.df_{i}[\\'velocity\\'][:, 0]')\n",
    "\n",
    "for i in range(len(fluid.list_vtu)):\n",
    "    exec(f'fluid.df_{i}[\\'velocity_mag\\'] = (fluid.df_{i}[\\'velocity\\'][:, 0]**2 + fluid.df_{i}[\\'velocity\\'][:, 1]**2 + fluid.df_{i}[\\'velocity\\'][:, 2]**2)**(1/2)')"
   ]
  },
  {
   "cell_type": "code",
   "execution_count": 14,
   "metadata": {},
   "outputs": [
    {
     "data": {
      "image/png": "[encoded data removed]",
      "text/plain": [
       "<Figure size 432x288 with 1 Axes>"
      ]
     },
     "metadata": {
      "needs_background": "light"
     },
     "output_type": "display_data"
    }
   ],
   "source": [
    "timestep = 10\n",
    "exec(f'plt.hist(fluid.df_{timestep}[\\'velocity_mag\\'], bins = 30, color = \\'green\\', density = True)') #make sure to put the \\ before any '\n",
    "plt.title(f'Time = {fluid.time_list[timestep]}')\n",
    "plt.ylabel('Frequency %')\n",
    "plt.xlabel('Velocity in X [m/s]')\n",
    "plt.grid()\n",
    "plt.show()"
   ]
  },
  {
   "cell_type": "code",
   "execution_count": 15,
   "metadata": {},
   "outputs": [],
   "source": [
    "def create_particles(df_name):\n",
    "    df = df_name\n",
    "\n",
    "    #create a sphere with diameter 1\n",
    "    sphere = pv.Sphere(theta_resolution=10, phi_resolution=10)\n",
    "\n",
    "    # create spheres scaled to the diameter of the array \"Diameter\"\n",
    "    df_glyph = df.glyph(scale='Diameter', geom=sphere)\n",
    "\n",
    "    # compute normalized velocity\n",
    "    #df_glyph['Velocity_Norm'] = np.linalg.norm(df_glyph['Velocity'], axis=1)\n",
    "    return df_glyph"
   ]
  },
  {
   "cell_type": "code",
   "execution_count": 16,
   "metadata": {},
   "outputs": [
    {
     "data": {
      "application/vnd.jupyter.widget-view+json": {
       "model_id": "99060ed23a534c759f6008685b6a6a03",
       "version_major": 2,
       "version_minor": 0
      },
      "text/plain": [
       "ViewInteractiveWidget(height=768, layout=Layout(height='auto', width='100%'), width=1024)"
      ]
     },
     "metadata": {},
     "output_type": "display_data"
    }
   ],
   "source": [
    "#Choose the white background for the figure\n",
    "pv.set_plot_theme(\"document\") #background white\n",
    "#Create a plotter\n",
    "plotter = pv.Plotter(off_screen=None)\n",
    "# create spheres scaled to the diameter of the array \"Diameter\"\n",
    "df_glyph = create_particles(particle.df_10)\n",
    "#Add data to the plotter\n",
    "plotter.add_mesh(df_glyph, cmap = 'turbo', scalars = 'Velocity', smooth_shading=True, scalar_bar_args={'color': 'k', 'vertical': True})\n",
    "#Define camera position\n",
    "plotter.camera_position = 'xy'\n",
    "plotter.camera.roll += 90\n",
    "\n",
    "plotter.show() #to save the file at the case folder, put `screenshot=f'{object.path_case}/name_of_file.png'`"
   ]
  },
  {
   "cell_type": "code",
   "execution_count": 17,
   "metadata": {},
   "outputs": [],
   "source": [
    "#Choose the white background for the figure\n",
    "pv.set_plot_theme(\"document\") #background white\n",
    "#Create a plotter\n",
    "plotter_2 = pv.Plotter(off_screen=None)\n",
    "# create spheres scaled to the diameter of the array \"Diameter\"\n",
    "df_glyph = create_particles(particle.df_10)\n",
    "#Add data to the plotter\n",
    "plotter_2.add_mesh(df_glyph, cmap = 'turbo', scalars = 'Velocity', smooth_shading=True, scalar_bar_args={'color': 'k', 'vertical': True})\n",
    "#Define camera position\n",
    "plotter_2.camera_position = 'xy'\n",
    "plotter_2.camera.roll += 90\n",
    "\n",
    "plotter_2.open_gif(f\"{particle.path_case}/particles_gif_example.gif\")\n",
    "\n",
    "\n",
    "for i in range(len(particle.list_vtu)):\n",
    "    exec(f'df = particle.df_{i}')\n",
    "    df_glyph = create_particles(df)\n",
    "    df_glyph.active_scalars_name = 'Velocity'\n",
    "    plotter_2.mesh.overwrite(df_glyph)\n",
    "    plotter_2.add_text(f\"Time: {particle.time_list[i]}\", name='Time_label')\n",
    "    plotter_2.write_frame()"
   ]
  },
  {
   "cell_type": "code",
   "execution_count": null,
   "metadata": {},
   "outputs": [],
   "source": []
  }
 ],
 "metadata": {
  "interpreter": {
   "hash": "d9ce3d1250f509288d4f5a285222e6ee18cf2fce997f4a8a682c9195a371541c"
  },
  "kernelspec": {
   "display_name": "Python 3.9.4 64-bit",
   "language": "python",
   "name": "python3"
  },
  "language_info": {
   "codemirror_mode": {
    "name": "ipython",
    "version": 3
   },
   "file_extension": ".py",
   "mimetype": "text/x-python",
   "name": "python",
   "nbconvert_exporter": "python",
   "pygments_lexer": "ipython3",
   "version": "3.9.4"
  },
  "orig_nbformat": 4
 },
 "nbformat": 4,
 "nbformat_minor": 2
}
